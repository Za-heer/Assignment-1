{
 "cells": [
  {
   "cell_type": "markdown",
   "id": "9ff667cf",
   "metadata": {},
   "source": [
    "# If Else and Elif Practice\n",
    "## Name: Zaheer Khan\n",
    "## Submitted to: Sir Qasim"
   ]
  },
  {
   "cell_type": "markdown",
   "id": "044de86f",
   "metadata": {},
   "source": [
    "## Question # 01\n",
    "A company decided to give bonus of 5% to employee if his/her year of service is more than 5 years. Ask user for their salary and year of\n",
    "service and print the net bonus amount.\n"
   ]
  },
  {
   "cell_type": "code",
   "execution_count": 5,
   "id": "76d45c44",
   "metadata": {},
   "outputs": [
    {
     "name": "stdout",
     "output_type": "stream",
     "text": [
      "Enter your salary 45000\n",
      "Enter your service year 8\n"
     ]
    },
    {
     "ename": "TypeError",
     "evalue": "can only concatenate str (not \"float\") to str",
     "output_type": "error",
     "traceback": [
      "\u001b[1;31m---------------------------------------------------------------------------\u001b[0m",
      "\u001b[1;31mTypeError\u001b[0m                                 Traceback (most recent call last)",
      "Cell \u001b[1;32mIn[5], line 5\u001b[0m\n\u001b[0;32m      3\u001b[0m \u001b[38;5;28;01mif\u001b[39;00m (service_year \u001b[38;5;241m>\u001b[39m \u001b[38;5;241m5\u001b[39m) :\n\u001b[0;32m      4\u001b[0m     bonus \u001b[38;5;241m=\u001b[39m (salary\u001b[38;5;241m/\u001b[39m\u001b[38;5;241m100\u001b[39m)\u001b[38;5;241m*\u001b[39m\u001b[38;5;241m5\u001b[39m\n\u001b[1;32m----> 5\u001b[0m     \u001b[38;5;28mprint\u001b[39m(\u001b[38;5;124m\"\u001b[39m\u001b[38;5;124mCongratulations your bonus is =\u001b[39m\u001b[38;5;124m\"\u001b[39m \u001b[38;5;241m+\u001b[39m bonus)\n\u001b[0;32m      6\u001b[0m \u001b[38;5;28;01melse\u001b[39;00m:\n\u001b[0;32m      7\u001b[0m     \u001b[38;5;28mprint\u001b[39m(\u001b[38;5;124m\"\u001b[39m\u001b[38;5;124mSorry you don\u001b[39m\u001b[38;5;124m'\u001b[39m\u001b[38;5;124mt have bonus....\u001b[39m\u001b[38;5;124m\"\u001b[39m)\n",
      "\u001b[1;31mTypeError\u001b[0m: can only concatenate str (not \"float\") to str"
     ]
    }
   ],
   "source": [
    "salary = int(input(\"Enter your salary \"))\n",
    "service_year = int(input(\"Enter your service year \"))\n",
    "if (service_year > 5) :\n",
    "    bonus = (salary/100)*5\n",
    "    print(\"Congratulations your bonus is =\" + bonus)\n",
    "else:\n",
    "    print(\"Sorry you don't have bonus....\")"
   ]
  },
  {
   "cell_type": "code",
   "execution_count": null,
   "id": "0f9a0865",
   "metadata": {},
   "outputs": [],
   "source": []
  }
 ],
 "metadata": {
  "kernelspec": {
   "display_name": "Python 3 (ipykernel)",
   "language": "python",
   "name": "python3"
  },
  "language_info": {
   "codemirror_mode": {
    "name": "ipython",
    "version": 3
   },
   "file_extension": ".py",
   "mimetype": "text/x-python",
   "name": "python",
   "nbconvert_exporter": "python",
   "pygments_lexer": "ipython3",
   "version": "3.11.5"
  }
 },
 "nbformat": 4,
 "nbformat_minor": 5
}
