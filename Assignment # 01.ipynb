{
 "cells": [
  {
   "cell_type": "markdown",
   "id": "e76a7afd",
   "metadata": {},
   "source": [
    "# If Else and Elif Practice\n",
    "## Name: Zaheer Khan\n",
    "## Submitted to: Sir Qasim"
   ]
  },
  {
   "cell_type": "markdown",
   "id": "8efed74b",
   "metadata": {},
   "source": [
    "## Question # 01\n",
    "A company decided to give bonus of 5% to employee if his/her year of service is more than 5 years. Ask user for their salary and year of\n",
    "service and print the net bonus amount.\n"
   ]
  },
  {
   "cell_type": "code",
   "execution_count": 1,
   "id": "c3060671",
   "metadata": {},
   "outputs": [
    {
     "name": "stdout",
     "output_type": "stream",
     "text": [
      "Enter your salary = 47822\n",
      "Enter your service year = 6\n",
      "Congratulations your bonus is = 2391.1000000000004\n"
     ]
    }
   ],
   "source": [
    "salary = int(input(\"Enter your salary = \"))\n",
    "service_year = int(input(\"Enter your service year = \"))\n",
    "if (service_year > 5) :\n",
    "    bonus = (salary/100)*5\n",
    "    print(\"Congratulations your bonus is = \" + str(bonus))\n",
    "else:\n",
    "    print(\"Sorry you don't have bonus....\")"
   ]
  },
  {
   "cell_type": "markdown",
   "id": "b0f7e229",
   "metadata": {},
   "source": [
    "## Question # 02\n",
    "Write a program to check whether a person is eligible for voting or not. (accept age from user) if age is greater than 17 eligible otherwise not\n",
    "eligible"
   ]
  },
  {
   "cell_type": "code",
   "execution_count": 2,
   "id": "2c55c524",
   "metadata": {},
   "outputs": [
    {
     "name": "stdout",
     "output_type": "stream",
     "text": [
      "Enter your age...23\n",
      "You are eligible for voting\n"
     ]
    }
   ],
   "source": [
    "age = int(input(\"Enter your age...\"))\n",
    "if age > 17:\n",
    "    print(\"You are eligible for voting\")\n",
    "else:\n",
    "    print(\"You are not eligible\")"
   ]
  },
  {
   "cell_type": "markdown",
   "id": "eff1699a",
   "metadata": {},
   "source": [
    "## Question # 03\n",
    "Write a program to check whether a number entered by user is even or odd.\n"
   ]
  },
  {
   "cell_type": "code",
   "execution_count": 3,
   "id": "f3a526a2",
   "metadata": {},
   "outputs": [
    {
     "name": "stdout",
     "output_type": "stream",
     "text": [
      "Enter any number...34\n",
      "Your number is Even\n"
     ]
    }
   ],
   "source": [
    "num = int(input(\"Enter any number...\"))\n",
    "if num%2==0:\n",
    "    print(\"Your number is Even\")\n",
    "else:\n",
    "    print(\"Your number is Odd\")"
   ]
  },
  {
   "cell_type": "markdown",
   "id": "53e604d5",
   "metadata": {},
   "source": [
    "## Question # 04\n",
    "Write a program to check whether a number is divisible by 7 or not. Show Answer"
   ]
  },
  {
   "cell_type": "code",
   "execution_count": 4,
   "id": "a9e6c131",
   "metadata": {},
   "outputs": [
    {
     "name": "stdout",
     "output_type": "stream",
     "text": [
      "Enter number...45\n",
      "Number is not divisible by 7\n"
     ]
    }
   ],
   "source": [
    "n = int(input(\"Enter number...\"))\n",
    "if n%7==0 :\n",
    "    print(\"Number is divisible by 7\")\n",
    "else:\n",
    "    print(\"Number is not divisible by 7\")"
   ]
  },
  {
   "cell_type": "markdown",
   "id": "5da4e9c2",
   "metadata": {},
   "source": [
    "## Question # 05\n",
    "Write a program to display \"Hello\" if a number entered by user is a multiple of five , otherwise print \"Bye\"."
   ]
  },
  {
   "cell_type": "code",
   "execution_count": 5,
   "id": "7dc1994c",
   "metadata": {},
   "outputs": [
    {
     "name": "stdout",
     "output_type": "stream",
     "text": [
      "Enter number...56\n",
      "Bye\n"
     ]
    }
   ],
   "source": [
    "num = int(input(\"Enter number...\"))\n",
    "if num % 5 == 0:\n",
    "    print(\"Hello\")\n",
    "else:\n",
    "    print(\"Bye\")"
   ]
  },
  {
   "cell_type": "markdown",
   "id": "86dbbfbd",
   "metadata": {},
   "source": [
    "## Question # 06\n",
    "Write a program to calculate the electricity bill (accept number of unit from user) according to the following criteria : Unit Price\n",
    "uptp 100 units no charge Next 200 units Rs 5 per unit After 200 units Rs 10 per unit (For example if input unit is 350 than total bill amount is\n",
    "Rs.3500 (For example if input unit is 97 than total bill amount is Rs.0 (For example if input unit is 150 than total bill amount is Rs.750"
   ]
  },
  {
   "cell_type": "code",
   "execution_count": 6,
   "id": "4ce79f75",
   "metadata": {},
   "outputs": [
    {
     "name": "stdout",
     "output_type": "stream",
     "text": [
      "Enter number of unit...23\n",
      "Total bill amount is Rs 0\n"
     ]
    }
   ],
   "source": [
    "unit = int(input(\"Enter number of unit...\"))\n",
    "if unit >= 100 and unit <= 200:\n",
    "    total_bill = unit*5\n",
    "    print(\"Total bill amount is \" + str(total_bill))\n",
    "elif unit > 200:\n",
    "    total_bill = unit * 10\n",
    "    print(\"Total bill amount is \" + str(total_bill))\n",
    "else:\n",
    "    print(\"Total bill amount is Rs 0\")"
   ]
  },
  {
   "cell_type": "markdown",
   "id": "749030cb",
   "metadata": {},
   "source": [
    "## Question # 07\n",
    "Write a program to display the last digit of a number."
   ]
  },
  {
   "cell_type": "code",
   "execution_count": 7,
   "id": "9fb0e767",
   "metadata": {},
   "outputs": [
    {
     "name": "stdout",
     "output_type": "stream",
     "text": [
      "Enter your number...323553\n",
      "3\n"
     ]
    }
   ],
   "source": [
    "num = int(input(\"Enter your number...\"))\n",
    "last_digit = num % 10\n",
    "print(last_digit)"
   ]
  },
  {
   "cell_type": "markdown",
   "id": "a597e54a",
   "metadata": {},
   "source": [
    "## Question # 08\n",
    " Write a program to check whether the last digit of a number( entered by user ) is divisible by 3 or not.\n"
   ]
  },
  {
   "cell_type": "code",
   "execution_count": 8,
   "id": "88e2e7b1",
   "metadata": {},
   "outputs": [
    {
     "name": "stdout",
     "output_type": "stream",
     "text": [
      "Enter your number...342\n",
      "2 is not divisible by 3\n"
     ]
    }
   ],
   "source": [
    "num = int(input(\"Enter your number...\"))\n",
    "last_digit = num % 10\n",
    "if last_digit % 3 == 0:\n",
    "    print(str(last_digit) + \" is divisible by 3\")\n",
    "else:\n",
    "    print(str(last_digit) + \" is not divisible by 3\")"
   ]
  },
  {
   "cell_type": "markdown",
   "id": "c5378cab",
   "metadata": {},
   "source": [
    "## Question # 09\n",
    "Take values of length and breadth of a rectangle from user and print if it is square or rectangle."
   ]
  },
  {
   "cell_type": "code",
   "execution_count": 9,
   "id": "e0d5a879",
   "metadata": {},
   "outputs": [
    {
     "name": "stdout",
     "output_type": "stream",
     "text": [
      "Enter length of rectangle...32\n",
      "Enter breadth of reactangle...21\n",
      "It is reactangle\n"
     ]
    }
   ],
   "source": [
    "length = int(input(\"Enter length of rectangle...\"))\n",
    "breadth = int(input(\"Enter breadth of reactangle...\"))\n",
    "if length == breadth :\n",
    "    print(\"It is Square\")\n",
    "else:\n",
    "    print(\"It is reactangle\")"
   ]
  },
  {
   "cell_type": "markdown",
   "id": "4bde38be",
   "metadata": {},
   "source": [
    "## Question # 10\n",
    "Take two int values from user and print greatest among them."
   ]
  },
  {
   "cell_type": "code",
   "execution_count": 10,
   "id": "86157254",
   "metadata": {},
   "outputs": [
    {
     "name": "stdout",
     "output_type": "stream",
     "text": [
      "Enter first number...32\n",
      "Enter second number...12\n",
      "32\n"
     ]
    }
   ],
   "source": [
    "num_1 = int(input(\"Enter first number...\"))\n",
    "num_2 = int(input(\"Enter second number...\"))\n",
    "if num_1 > num_2:\n",
    "    print(num_1)\n",
    "else:\n",
    "    print(num_2)"
   ]
  },
  {
   "cell_type": "markdown",
   "id": "bf8b317b",
   "metadata": {},
   "source": [
    "## Question # 11\n",
    "A shop will give discount of 10% if the cost of purchased quantity is more than 1000. Ask user for quantity Suppose, one unit will cost 100.\n",
    "Judge and print total cost for user."
   ]
  },
  {
   "cell_type": "code",
   "execution_count": 11,
   "id": "bce374f7",
   "metadata": {},
   "outputs": [
    {
     "name": "stdout",
     "output_type": "stream",
     "text": [
      "Enter the quantity: 12\n",
      "Total cost after 10% discount: $1080.0\n"
     ]
    }
   ],
   "source": [
    "quantity = int(input(\"Enter the quantity: \"))\n",
    "unit_cost = 100\n",
    "total_cost = quantity * unit_cost\n",
    "if total_cost > 1000:\n",
    "    discount = (total_cost * 10) / 100\n",
    "    total_cost_after_discount = total_cost - discount\n",
    "    print(\"Total cost after 10% discount: $\" + str(total_cost_after_discount))\n",
    "else:\n",
    "    print(\"Total cost: $\" + str(total_cost))"
   ]
  },
  {
   "cell_type": "markdown",
   "id": "d95086cf",
   "metadata": {},
   "source": [
    "## Question # 12\n",
    "A school has following rules for grading system:\n",
    "a. Below 25 - F\n",
    "b. 25 to 45 - E\n",
    "c. 45 to 50 - D\n",
    "d. 50 to 60 - C\n",
    "e. 60 to 80 - B\n",
    "f. Above 80 - A\n",
    "Ask user to enter marks and print the corresponding grade"
   ]
  },
  {
   "cell_type": "code",
   "execution_count": 12,
   "id": "a8f06baa",
   "metadata": {},
   "outputs": [
    {
     "name": "stdout",
     "output_type": "stream",
     "text": [
      "Enter your obtain marks...876\n",
      "Your grade is B\n"
     ]
    }
   ],
   "source": [
    "marks = int(input(\"Enter your obtain marks...\"))\n",
    "total_marks = 1100\n",
    "percentage = (marks / total_marks) * 100\n",
    "if percentage < 25 :\n",
    "    print(\"Your grade is F\")\n",
    "elif percentage >= 25 and percentage <=45 :\n",
    "    print(\"Your grade is E\")\n",
    "elif percentage >= 45 and percentage <=50 :\n",
    "    print(\"Your grade is D\")\n",
    "elif percentage >= 50 and percentage <=60 :\n",
    "    print(\"Your grade is C\")\n",
    "elif percentage >= 60 and percentage <=80 :\n",
    "    print(\"Your grade is B\")\n",
    "else:\n",
    "    print(\"Your grade is A\")"
   ]
  },
  {
   "cell_type": "markdown",
   "id": "cac66529",
   "metadata": {},
   "source": [
    "## Question # 13\n",
    "Take input of age of 3 people by user and determine oldest and youngest among them"
   ]
  },
  {
   "cell_type": "code",
   "execution_count": 13,
   "id": "b538eae3",
   "metadata": {},
   "outputs": [
    {
     "name": "stdout",
     "output_type": "stream",
     "text": [
      "First person enter your age...25\n",
      "Second person enter your age...53\n",
      "Third person enter your age...19\n",
      "Second person is oldest\n",
      "Third person is youngest\n"
     ]
    }
   ],
   "source": [
    "age_1 = int(input(\"First person enter your age...\"))\n",
    "age_2 = int(input(\"Second person enter your age...\"))\n",
    "age_3 = int(input(\"Third person enter your age...\"))\n",
    "if age_1 > age_2 and age_1 > age_3:\n",
    "        print(\"First person is oldest\")\n",
    "        if age_2 > age_3:\n",
    "            print(\"Third person is youngest\")\n",
    "        else:\n",
    "            print:(\"Second person is youngest\")\n",
    "elif age_2 > age_1 and  age_2 > age_3:\n",
    "        print(\"Second person is oldest\")\n",
    "        if age_1 > age_3:\n",
    "            print(\"Third person is youngest\")\n",
    "        else:\n",
    "            print(\"First person is youngest\")\n",
    "else:\n",
    "    print(\"Third person is oldest\")\n",
    "    if age_1 > age_2:\n",
    "        print(\"Second person is Youngest\")\n",
    "    else:\n",
    "        print(\"First person is younget\")\n",
    "        "
   ]
  },
  {
   "cell_type": "markdown",
   "id": "07ec0c87",
   "metadata": {},
   "source": [
    "## Question # 14\n",
    "A student will not be allowed to sit in exam if his/her attendence is less than 75%.\n",
    "Take following input from user\n",
    "Number of classes held\n",
    "Number of classes attended.\n",
    "And print\n",
    "percentage of class attended\n",
    "Is student is allowed to sit in exam or not."
   ]
  },
  {
   "cell_type": "code",
   "execution_count": 18,
   "id": "b2caa14d",
   "metadata": {},
   "outputs": [
    {
     "name": "stdout",
     "output_type": "stream",
     "text": [
      "Enter number of  classes held...50\n",
      "Enter number of classes atended40\n",
      "80.0%\n",
      "You are allowed to sit in exam\n"
     ]
    }
   ],
   "source": [
    "number_of_classes_held = int(input(\"Enter number of  classes held...\"))\n",
    "number_of_classes_attended = int(input(\"Enter number of classes atended\"))\n",
    "percentage = (number_of_classes_attended / number_of_classes_held) * 100\n",
    "print(str(percentage) + \"%\")\n",
    "if percentage > 75 :\n",
    "    print(\"You are allowed to sit in exam\")\n",
    "else:\n",
    "    print(\"You are not allowed sit in exam\")"
   ]
  },
  {
   "cell_type": "markdown",
   "id": "0a674703",
   "metadata": {},
   "source": [
    "## Question # 15\n",
    "Modify the above question to allow student to sit if he/she has medical cause. Ask user if he/she has medical cause or not ( 'Y' or 'N' ) and\n",
    "print accordingly"
   ]
  },
  {
   "cell_type": "code",
   "execution_count": 16,
   "id": "228d51a3",
   "metadata": {},
   "outputs": [
    {
     "name": "stdout",
     "output_type": "stream",
     "text": [
      "Do you have medical causes? If yes the write Y if no then write NY\n",
      "You are not allowed to sit in exam\n"
     ]
    }
   ],
   "source": [
    "medical_cause = input(\"Do you have medical causes? If yes the write Y if no then write N\")\n",
    "\n",
    "if medical_cause == \"Y\":\n",
    "    print(\"You are not allowed to sit in exam\")\n",
    "elif medical_cause == \"N\":\n",
    "    print(\"You are not allowed sit in exam\")"
   ]
  },
  {
   "cell_type": "markdown",
   "id": "66a9b179",
   "metadata": {},
   "source": [
    "## Question # 16\n",
    "Write a program to check if a year is leap year or not.\n",
    "If a year is divisible by 4 then it is leap year but if the year is century year like 2000, 1900, 2100 then it must be divisible by 400."
   ]
  },
  {
   "cell_type": "code",
   "execution_count": 19,
   "id": "c2a6ab0b",
   "metadata": {},
   "outputs": [
    {
     "name": "stdout",
     "output_type": "stream",
     "text": [
      "Enter year to check...2100\n",
      "2100 is not a leap year.\n"
     ]
    }
   ],
   "source": [
    "year = int(input(\"Enter year to check...\"))\n",
    "\n",
    "if (year % 4 == 0 and year % 100 != 0) or (year % 400 == 0):\n",
    "    print(year, \"is a leap year.\")\n",
    "else:\n",
    "    print(year, \"is not a leap year.\")\n",
    "    "
   ]
  },
  {
   "cell_type": "markdown",
   "id": "7d50e5cb",
   "metadata": {},
   "source": [
    "## Question # 17\n",
    "Ask user to enter age, gender ( M or F ), marital status ( Y or N ) and then using following rules print their place of service.\n",
    "if employee is female, then she will work only in urban areas.\n",
    "if employee is a male and age is in between 20 to 40 then he may work in anywhere\n",
    "if employee is male and age is in between 40 t0 60 then he will work in urban areas only.\n",
    "And any other input of age should print \"ERROR\""
   ]
  },
  {
   "cell_type": "code",
   "execution_count": null,
   "id": "1ac33ef0",
   "metadata": {},
   "outputs": [
    {
     "ename": "ValueError",
     "evalue": "invalid literal for int() with base 10: ''",
     "output_type": "error",
     "traceback": [
      "\u001b[1;31m---------------------------------------------------------------------------\u001b[0m",
      "\u001b[1;31mValueError\u001b[0m                                Traceback (most recent call last)",
      "Cell \u001b[1;32mIn[1], line 1\u001b[0m\n\u001b[1;32m----> 1\u001b[0m age \u001b[38;5;241m=\u001b[39m \u001b[38;5;28;43mint\u001b[39;49m\u001b[43m(\u001b[49m\u001b[38;5;28;43minput\u001b[39;49m\u001b[43m(\u001b[49m\u001b[38;5;124;43m\"\u001b[39;49m\u001b[38;5;124;43mEnter your age \u001b[39;49m\u001b[38;5;124;43m\"\u001b[39;49m\u001b[43m)\u001b[49m\u001b[43m)\u001b[49m\n\u001b[0;32m      2\u001b[0m gender \u001b[38;5;241m=\u001b[39m \u001b[38;5;28minput\u001b[39m(\u001b[38;5;124m\"\u001b[39m\u001b[38;5;124mFor male enter M For female enter F \u001b[39m\u001b[38;5;124m\"\u001b[39m)\n\u001b[0;32m      3\u001b[0m marital_status \u001b[38;5;241m=\u001b[39m (\u001b[38;5;124m\"\u001b[39m\u001b[38;5;124mFor married enter Y For unmerried enter N\u001b[39m\u001b[38;5;124m\"\u001b[39m)\n",
      "\u001b[1;31mValueError\u001b[0m: invalid literal for int() with base 10: ''"
     ]
    }
   ],
   "source": [
    "age = int(input('Enter your age '))\n",
    "gender = input(\"For male enter M For female enter F \")\n",
    "marital_status = (\"For married enter Y For unmerried enter N\")\n",
    "\n",
    "if gender == \"F\":\n",
    "    print(\"You will work only in urban areas\")\n",
    "elif gender == \"M\":\n",
    "    if age >= 20 and age <= 40:\n",
    "        print(\"You will work anywhere\")\n",
    "    elif age > 40 and age <= 60:\n",
    "        print(\"You will work only in urban areas\")\n",
    "else:\n",
    "    print(\"ERROR\")"
   ]
  }
 ],
 "metadata": {
  "kernelspec": {
   "display_name": "Python 3 (ipykernel)",
   "language": "python",
   "name": "python3"
  },
  "language_info": {
   "codemirror_mode": {
    "name": "ipython",
    "version": 3
   },
   "file_extension": ".py",
   "mimetype": "text/x-python",
   "name": "python",
   "nbconvert_exporter": "python",
   "pygments_lexer": "ipython3",
   "version": "3.12.0"
  }
 },
 "nbformat": 4,
 "nbformat_minor": 5
}
